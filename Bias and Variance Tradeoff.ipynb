{
 "cells": [
  {
   "cell_type": "markdown",
   "metadata": {},
   "source": [
    "# _Bias and Variance Tradeoff Implementation_"
   ]
  },
  {
   "cell_type": "markdown",
   "metadata": {},
   "source": [
    "### Importance of below libraries:\n",
    "\n",
    "**Numpy**\n",
    "1. NumPy contains a multi-dimensional array and matrix data structures.<br/>\n",
    "2. It can be utilised to perform a number of mathematical operations on arrays such as trigonometric, statistical, and \n",
    "algebraic routines....<br/>\n",
    "3. NumPy is an extension of Numeric and Numarray.<br/>\n",
    "\n",
    "**Pandas**\n",
    "1. It is built on the Numpy package and its key data structure is called the DataFrame.<br/> \n",
    "2. DataFrames allow you to store and manipulate tabular data in rows of observations and columns of variables.<br/>\n",
    "\n",
    "**matplotlib.pyplot**\n",
    "1. pyplot is a plotting library used for 2D graphics in python programming language.<br/>\n",
    "2. It can be used in python scripts, shell, web application servers and other graphical user interface toolkits.<br/>\n",
    "\n",
    "**seaborn**\n",
    "1. Seaborn is a Python data visualization library based on matplotlib.<br/> \n",
    "2. It provides a high-level interface for drawing attractive and informative statistical graphics.<br/>\n",
    "\n",
    "**Difference between Matplotlib/Seaborn**\n",
    "1. Matplotlib is mainly deployed for basic plotting. Visualization using Matplotlib generally consists of bars, pies, lines, scatter plots and so on.<br/> \n",
    "2. Seaborn, on the other hand, provides a variety of visualization patterns. It uses fewer syntax and has easily interesting default themes.<br/>\n",
    "\n",
    "**matplotlib inline**<br/>\n",
    "%matplotlib inline sets the backend of matplotlib to the 'inline' backend: With this backend, the output of plotting commands is displayed inline within frontends like the Jupyter notebook, directly below the code cell that produced it. The resulting plots will then also be stored in the notebook document.<br/>\n",
    "\n",
    "**matplotlib.pylab**<br/>\n",
    "Matplotlib is the whole package; matplotlib.pyplot is a module in Matplotlib; and PyLab is a module that gets installed alongside Matplotlib.<br/>\n",
    "1. PyLab is a convenience module that bulk imports matplotlib.pyplot (for plotting) and NumPy (for Mathematics and working with arrays) in a single name space. Although many examples use PyLab, it is no longer recommended.<br/>\n",
    "\n",
    "**rcParams and style sheets**<br/>\n",
    "You can also dynamically change the default rc settings in a python script or interactively from the python shell. \n",
    "All of the rc settings are stored in a dictionary-like variable called *matplotlib.rcParams*, which is global to the matplotlib package.<br/>"
   ]
  },
  {
   "cell_type": "markdown",
   "metadata": {},
   "source": [
    "**All Models tends to make some error, there is no model which can make perfect predictions, then can we control these errors\n",
    "which models makes, to understand this, we need to understand the compositions which models makes. Prediction error could \n",
    "be decomposed into two components, called as *Error due to Bias* & *Error due to Variance*.No model can minimize both Bias and \n",
    "Variance. Hence, there is a tradeoff between Bias and Variance. By keeping track of these results means keep diagnosing \n",
    "model results, and it should not lead to underfitting/Overfitting condition.**"
   ]
  },
  {
   "cell_type": "markdown",
   "metadata": {},
   "source": [
    "##### Description:\n",
    "Here we take a data-set and try to create Underfitting/Overfitting miles and understand how errors change based on the complexity of the models, then how to find out the optimal complexity of the model where the error is minimized."
   ]
  },
  {
   "cell_type": "code",
   "execution_count": 1,
   "metadata": {},
   "outputs": [],
   "source": [
    "import numpy as np\n",
    "import pandas as pd\n",
    "import random\n",
    "import matplotlib.pyplot as plt\n",
    "import seaborn as sns\n",
    "%matplotlib inline\n",
    "from matplotlib.pylab import rcParams\n",
    "from sklearn import metrics\n",
    "\n",
    "from sklearn.model_selection import train_test_split  # Split arrays or matrices into random train and test subsets\n",
    "rcParams['figure.figsize'] = 8,6"
   ]
  },
  {
   "cell_type": "code",
   "execution_count": 2,
   "metadata": {},
   "outputs": [],
   "source": [
    "import warnings\n",
    "warnings.filterwarnings('ignore')"
   ]
  },
  {
   "cell_type": "code",
   "execution_count": 3,
   "metadata": {},
   "outputs": [
    {
     "data": {
      "text/plain": [
       "[<matplotlib.lines.Line2D at 0x2a86ec4f160>]"
      ]
     },
     "execution_count": 3,
     "metadata": {},
     "output_type": "execute_result"
    },
    {
     "data": {
      "image/png": "[encoded data removed]",
      "text/plain": [
       "<Figure size 432x288 with 1 Axes>"
      ]
     },
     "metadata": {
      "needs_background": "light"
     },
     "output_type": "display_data"
    }
   ],
   "source": [
    "# create a data-set, so i take a sin wave ranging from(60,300)degrees and add some normal noise to it using\n",
    "# (np.random.normal) and store the x and y values into the columns of the data-frame named curve.\n",
    "\n",
    "np.random.seed(10)         # seed the legacy of random number generation\n",
    "\n",
    "x = np.array([i*np.pi/180 for i in range(60,300,4)])\n",
    "y = np.sin(x) + np.random.normal(0,0.15,len(x))\n",
    "\n",
    "# numpy.column_stack() function is used to stack 1-D arrays as columns into a 2-D array. It takes a sequence of 1-D arrays \n",
    "# and stack them as columns to make a single 2-D array.\n",
    "\n",
    "curve = pd.DataFrame(np.column_stack([x,y]),columns=['x','y'])\n",
    "plt.plot(curve['x'],curve['y'],'.')"
   ]
  },
  {
   "cell_type": "code",
   "execution_count": 4,
   "metadata": {},
   "outputs": [],
   "source": [
    "# Here I have created a polynomial func(fit_poly), which basically fits the polynomial--of degree 1 or n, for the given \n",
    "# data-points we have.\n",
    "\n",
    "def fit_poly(degree):\n",
    "    \n",
    "    # Least squares polynomial fit.\n",
    "    p = np.polyfit( curve.x, curve.y, deg = degree)\n",
    "    \n",
    "    # Evaluate a polynomial at specific values,'p':1D array of polynomial coefficients,'x':A number, an array of numbers, \n",
    "    # or an instance of poly1d, at which to evaluate p.\n",
    "    curve['fit'] = np.polyval(p, curve.x)\n",
    "    \n",
    "    # Plot data and a conditional model fit.\n",
    "    sns.regplot( curve.x, curve.y, fit_reg = False)\n",
    "    return plt.plot( curve.x, curve.fit, label = 'fit')"
   ]
  },
  {
   "cell_type": "code",
   "execution_count": 5,
   "metadata": {},
   "outputs": [
    {
     "data": {
      "text/plain": [
       "[<matplotlib.lines.Line2D at 0x2a85970e390>]"
      ]
     },
     "execution_count": 5,
     "metadata": {},
     "output_type": "execute_result"
    },
    {
     "data": {
      "image/png": "[encoded data removed]",
      "text/plain": [
       "<Figure size 432x288 with 1 Axes>"
      ]
     },
     "metadata": {
      "needs_background": "light"
     },
     "output_type": "display_data"
    }
   ],
   "source": [
    "# Lets fit a simple Linear Regression line\n",
    "fit_poly(1)"
   ]
  },
  {
   "cell_type": "markdown",
   "metadata": {},
   "source": [
    "**This is how regression line looks like on fitted points. If we observe carefully regression line does not fit the data, the \n",
    "model assumes the relationship between x and y is linear and these models are called as High Biased Models. It assumes simplicity and relationship and do not explain even the variation in the data well, even if the sample changes the parameter in\n",
    "the model hardly respond, and parameters are least sensitive to any changes.**"
   ]
  },
  {
   "cell_type": "code",
   "execution_count": 6,
   "metadata": {},
   "outputs": [
    {
     "data": {
      "text/plain": [
       "[<matplotlib.lines.Line2D at 0x2a86cbcdcc0>]"
      ]
     },
     "execution_count": 6,
     "metadata": {},
     "output_type": "execute_result"
    },
    {
     "data": {
      "image/png": "[encoded data removed]",
      "text/plain": [
       "<Figure size 432x288 with 1 Axes>"
      ]
     },
     "metadata": {
      "needs_background": "light"
     },
     "output_type": "display_data"
    }
   ],
   "source": [
    "# Fitting a polynomial feature of X^2, here also all the data-point does not fit the line properly.\n",
    "fit_poly(2)"
   ]
  },
  {
   "cell_type": "code",
   "execution_count": 7,
   "metadata": {},
   "outputs": [
    {
     "data": {
      "text/plain": [
       "[<matplotlib.lines.Line2D at 0x2a86ed7b278>]"
      ]
     },
     "execution_count": 7,
     "metadata": {},
     "output_type": "execute_result"
    },
    {
     "data": {
      "image/png": "[encoded data removed]",
      "text/plain": [
       "<Figure size 432x288 with 1 Axes>"
      ]
     },
     "metadata": {
      "needs_background": "light"
     },
     "output_type": "display_data"
    }
   ],
   "source": [
    "# Now as we keep on increasing the poly degree, we observe the data-points starts fitting the line really well. Hence result \n",
    "# in overfitting.High variance problem.Very sensitive to any changes. Not a Generalized model.\n",
    "fit_poly(5)"
   ]
  },
  {
   "cell_type": "markdown",
   "metadata": {},
   "source": [
    "**So, How do we decide the complexity of the model ?**<br/>\n",
    "=> To understand this, we need to split our data-set into train and test. And, then build model to increase in complexity\n",
    "    to understand the cases of underfitting/overfitting(explain Bias/Variance Tradeoff)"
   ]
  },
  {
   "cell_type": "code",
   "execution_count": 8,
   "metadata": {},
   "outputs": [],
   "source": [
    "# A function to calculate RMSE of the fitted values with the actual values\n",
    "def get_rmse(y, y_fit):\n",
    "    return np.sqrt( metrics.mean_squared_error(y, y_fit))"
   ]
  },
  {
   "cell_type": "code",
   "execution_count": 9,
   "metadata": {},
   "outputs": [],
   "source": [
    "# Next step, basically splitted the data-set into train/test\n",
    "train_X, test_X, train_y, test_y = train_test_split(curve.x,\n",
    "                                                    curve.y,\n",
    "                                                    test_size=0.40,\n",
    "                                                    random_state=100)"
   ]
  },
  {
   "cell_type": "code",
   "execution_count": 10,
   "metadata": {},
   "outputs": [],
   "source": [
    "rmse_df = pd.DataFrame(columns = [\"degree\", \"rmse_train\", \"rmse_test\"])\n",
    "\n",
    "# I range over complexity from value 1-14 and fit the polynomial and calculate both the train/test errors\n",
    "\n",
    "for i in range(1,15):\n",
    "    p = np.polyfit(train_X, train_y, deg = i)\n",
    "    rmse_df.loc[i-1] = [i, \n",
    "                        get_rmse(train_y, np.polyval(p, train_X)),\n",
    "                        get_rmse(test_y, np.polyval(p,test_X))]"
   ]
  },
  {
   "cell_type": "code",
   "execution_count": 11,
   "metadata": {},
   "outputs": [
    {
     "data": {
      "text/html": [
       "<div>\n",
       "<style scoped>\n",
       "    .dataframe tbody tr th:only-of-type {\n",
       "        vertical-align: middle;\n",
       "    }\n",
       "\n",
       "    .dataframe tbody tr th {\n",
       "        vertical-align: top;\n",
       "    }\n",
       "\n",
       "    .dataframe thead th {\n",
       "        text-align: right;\n",
       "    }\n",
       "</style>\n",
       "<table border=\"1\" class=\"dataframe\">\n",
       "  <thead>\n",
       "    <tr style=\"text-align: right;\">\n",
       "      <th></th>\n",
       "      <th>degree</th>\n",
       "      <th>rmse_train</th>\n",
       "      <th>rmse_test</th>\n",
       "    </tr>\n",
       "  </thead>\n",
       "  <tbody>\n",
       "    <tr>\n",
       "      <th>0</th>\n",
       "      <td>1.0</td>\n",
       "      <td>0.231569</td>\n",
       "      <td>0.237707</td>\n",
       "    </tr>\n",
       "    <tr>\n",
       "      <th>1</th>\n",
       "      <td>2.0</td>\n",
       "      <td>0.229154</td>\n",
       "      <td>0.244414</td>\n",
       "    </tr>\n",
       "    <tr>\n",
       "      <th>2</th>\n",
       "      <td>3.0</td>\n",
       "      <td>0.115409</td>\n",
       "      <td>0.165920</td>\n",
       "    </tr>\n",
       "    <tr>\n",
       "      <th>3</th>\n",
       "      <td>4.0</td>\n",
       "      <td>0.113938</td>\n",
       "      <td>0.164451</td>\n",
       "    </tr>\n",
       "    <tr>\n",
       "      <th>4</th>\n",
       "      <td>5.0</td>\n",
       "      <td>0.110525</td>\n",
       "      <td>0.159416</td>\n",
       "    </tr>\n",
       "    <tr>\n",
       "      <th>5</th>\n",
       "      <td>6.0</td>\n",
       "      <td>0.105360</td>\n",
       "      <td>0.166479</td>\n",
       "    </tr>\n",
       "    <tr>\n",
       "      <th>6</th>\n",
       "      <td>7.0</td>\n",
       "      <td>0.104923</td>\n",
       "      <td>0.161330</td>\n",
       "    </tr>\n",
       "    <tr>\n",
       "      <th>7</th>\n",
       "      <td>8.0</td>\n",
       "      <td>0.104414</td>\n",
       "      <td>0.157364</td>\n",
       "    </tr>\n",
       "    <tr>\n",
       "      <th>8</th>\n",
       "      <td>9.0</td>\n",
       "      <td>0.100549</td>\n",
       "      <td>0.160113</td>\n",
       "    </tr>\n",
       "    <tr>\n",
       "      <th>9</th>\n",
       "      <td>10.0</td>\n",
       "      <td>0.100393</td>\n",
       "      <td>0.158239</td>\n",
       "    </tr>\n",
       "    <tr>\n",
       "      <th>10</th>\n",
       "      <td>11.0</td>\n",
       "      <td>0.100368</td>\n",
       "      <td>0.156214</td>\n",
       "    </tr>\n",
       "    <tr>\n",
       "      <th>11</th>\n",
       "      <td>12.0</td>\n",
       "      <td>0.100174</td>\n",
       "      <td>0.159986</td>\n",
       "    </tr>\n",
       "    <tr>\n",
       "      <th>12</th>\n",
       "      <td>13.0</td>\n",
       "      <td>0.087312</td>\n",
       "      <td>0.374496</td>\n",
       "    </tr>\n",
       "    <tr>\n",
       "      <th>13</th>\n",
       "      <td>14.0</td>\n",
       "      <td>0.070776</td>\n",
       "      <td>0.579859</td>\n",
       "    </tr>\n",
       "  </tbody>\n",
       "</table>\n",
       "</div>"
      ],
      "text/plain": [
       "    degree  rmse_train  rmse_test\n",
       "0      1.0    0.231569   0.237707\n",
       "1      2.0    0.229154   0.244414\n",
       "2      3.0    0.115409   0.165920\n",
       "3      4.0    0.113938   0.164451\n",
       "4      5.0    0.110525   0.159416\n",
       "5      6.0    0.105360   0.166479\n",
       "6      7.0    0.104923   0.161330\n",
       "7      8.0    0.104414   0.157364\n",
       "8      9.0    0.100549   0.160113\n",
       "9     10.0    0.100393   0.158239\n",
       "10    11.0    0.100368   0.156214\n",
       "11    12.0    0.100174   0.159986\n",
       "12    13.0    0.087312   0.374496\n",
       "13    14.0    0.070776   0.579859"
      ]
     },
     "execution_count": 11,
     "metadata": {},
     "output_type": "execute_result"
    }
   ],
   "source": [
    "# Training/Testing error wrt degrees\n",
    "rmse_df"
   ]
  },
  {
   "cell_type": "code",
   "execution_count": 12,
   "metadata": {},
   "outputs": [
    {
     "data": {
      "text/plain": [
       "<matplotlib.legend.Legend at 0x2a86ee501d0>"
      ]
     },
     "execution_count": 12,
     "metadata": {},
     "output_type": "execute_result"
    },
    {
     "data": {
      "image/png": "[encoded data removed]",
      "text/plain": [
       "<Figure size 432x288 with 1 Axes>"
      ]
     },
     "metadata": {
      "needs_background": "light"
     },
     "output_type": "display_data"
    }
   ],
   "source": [
    "plt.plot(rmse_df.degree,\n",
    "         rmse_df.rmse_train,\n",
    "         label = \"train\",\n",
    "         color = 'r')\n",
    "\n",
    "plt.plot(rmse_df.degree,\n",
    "         rmse_df.rmse_test,\n",
    "         label = \"test\",\n",
    "         color = 'g')\n",
    "\n",
    "# Place a legend on the axes.(Movement of train/test box into specific location)\n",
    "plt.legend(bbox_to_anchor=(1.05, 1),\n",
    "           loc=2,\n",
    "           borderaxespad=0)"
   ]
  },
  {
   "cell_type": "markdown",
   "metadata": {},
   "source": [
    "**This is how our plot looks. It can be observed as model complexity increases. The model begins to fit training/test data\n",
    "  but beyond a point at ceratin complexity even though the training error reduces the test error starts to swell. This is the \n",
    "    point 12 below which the model underfits and above it overfits, also known as optimal model complexity point.** "
   ]
  },
  {
   "cell_type": "code",
   "execution_count": null,
   "metadata": {},
   "outputs": [],
   "source": []
  },
  {
   "cell_type": "code",
   "execution_count": 1,
   "metadata": {},
   "outputs": [
    {
     "name": "stderr",
     "output_type": "stream",
     "text": [
      "Matplotlib is building the font cache; this may take a moment.\n"
     ]
    }
   ],
   "source": [
    "import matplotlib.pyplot as plt"
   ]
  },
  {
   "cell_type": "code",
   "execution_count": null,
   "metadata": {},
   "outputs": [],
   "source": []
  },
  {
   "cell_type": "code",
   "execution_count": null,
   "metadata": {},
   "outputs": [],
   "source": []
  },
  {
   "cell_type": "code",
   "execution_count": null,
   "metadata": {},
   "outputs": [],
   "source": []
  }
 ],
 "metadata": {
  "kernelspec": {
   "display_name": "Python 3",
   "language": "python",
   "name": "python3"
  },
  "language_info": {
   "codemirror_mode": {
    "name": "ipython",
    "version": 3
   },
   "file_extension": ".py",
   "mimetype": "text/x-python",
   "name": "python",
   "nbconvert_exporter": "python",
   "pygments_lexer": "ipython3",
   "version": "3.6.5"
  }
 },
 "nbformat": 4,
 "nbformat_minor": 2
}
